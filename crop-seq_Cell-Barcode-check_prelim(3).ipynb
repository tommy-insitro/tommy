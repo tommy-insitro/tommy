{
 "cells": [
  {
   "cell_type": "code",
   "execution_count": 5,
   "id": "0c57a8ee-a41b-40ea-a831-3dd22a6ec466",
   "metadata": {
    "collapsed": true,
    "jupyter": {
     "outputs_hidden": true
    },
    "tags": []
   },
   "outputs": [
    {
     "name": "stdout",
     "output_type": "stream",
     "text": [
      "Requirement already satisfied: s3fs in /root/miniconda3/envs/insitro/lib/python3.9/site-packages (2023.10.0)\n",
      "Requirement already satisfied: aiobotocore~=2.7.0 in /root/miniconda3/envs/insitro/lib/python3.9/site-packages (from s3fs) (2.7.0)\n",
      "Requirement already satisfied: fsspec==2023.10.0 in /root/miniconda3/envs/insitro/lib/python3.9/site-packages (from s3fs) (2023.10.0)\n",
      "Requirement already satisfied: aiohttp!=4.0.0a0,!=4.0.0a1 in /root/miniconda3/envs/insitro/lib/python3.9/site-packages (from s3fs) (3.8.6)\n",
      "Requirement already satisfied: botocore<1.31.65,>=1.31.16 in /root/miniconda3/envs/insitro/lib/python3.9/site-packages (from aiobotocore~=2.7.0->s3fs) (1.31.64)\n",
      "Requirement already satisfied: wrapt<2.0.0,>=1.10.10 in /root/miniconda3/envs/insitro/lib/python3.9/site-packages (from aiobotocore~=2.7.0->s3fs) (1.15.0)\n",
      "Requirement already satisfied: aioitertools<1.0.0,>=0.5.1 in /root/miniconda3/envs/insitro/lib/python3.9/site-packages (from aiobotocore~=2.7.0->s3fs) (0.11.0)\n",
      "Requirement already satisfied: attrs>=17.3.0 in /root/miniconda3/envs/insitro/lib/python3.9/site-packages (from aiohttp!=4.0.0a0,!=4.0.0a1->s3fs) (21.4.0)\n",
      "Requirement already satisfied: charset-normalizer<4.0,>=2.0 in /root/miniconda3/envs/insitro/lib/python3.9/site-packages (from aiohttp!=4.0.0a0,!=4.0.0a1->s3fs) (2.1.1)\n",
      "Requirement already satisfied: multidict<7.0,>=4.5 in /root/miniconda3/envs/insitro/lib/python3.9/site-packages (from aiohttp!=4.0.0a0,!=4.0.0a1->s3fs) (6.0.4)\n",
      "Requirement already satisfied: async-timeout<5.0,>=4.0.0a3 in /root/miniconda3/envs/insitro/lib/python3.9/site-packages (from aiohttp!=4.0.0a0,!=4.0.0a1->s3fs) (4.0.3)\n",
      "Requirement already satisfied: yarl<2.0,>=1.0 in /root/miniconda3/envs/insitro/lib/python3.9/site-packages (from aiohttp!=4.0.0a0,!=4.0.0a1->s3fs) (1.9.2)\n",
      "Requirement already satisfied: frozenlist>=1.1.1 in /root/miniconda3/envs/insitro/lib/python3.9/site-packages (from aiohttp!=4.0.0a0,!=4.0.0a1->s3fs) (1.4.0)\n",
      "Requirement already satisfied: aiosignal>=1.1.2 in /root/miniconda3/envs/insitro/lib/python3.9/site-packages (from aiohttp!=4.0.0a0,!=4.0.0a1->s3fs) (1.3.1)\n",
      "Requirement already satisfied: typing_extensions>=4.0 in /root/miniconda3/envs/insitro/lib/python3.9/site-packages (from aioitertools<1.0.0,>=0.5.1->aiobotocore~=2.7.0->s3fs) (4.8.0)\n",
      "Requirement already satisfied: jmespath<2.0.0,>=0.7.1 in /root/miniconda3/envs/insitro/lib/python3.9/site-packages (from botocore<1.31.65,>=1.31.16->aiobotocore~=2.7.0->s3fs) (1.0.1)\n",
      "Requirement already satisfied: python-dateutil<3.0.0,>=2.1 in /root/miniconda3/envs/insitro/lib/python3.9/site-packages (from botocore<1.31.65,>=1.31.16->aiobotocore~=2.7.0->s3fs) (2.8.2)\n",
      "Requirement already satisfied: urllib3<1.27,>=1.25.4 in /root/miniconda3/envs/insitro/lib/python3.9/site-packages (from botocore<1.31.65,>=1.31.16->aiobotocore~=2.7.0->s3fs) (1.26.18)\n",
      "Requirement already satisfied: idna>=2.0 in /root/miniconda3/envs/insitro/lib/python3.9/site-packages (from yarl<2.0,>=1.0->aiohttp!=4.0.0a0,!=4.0.0a1->s3fs) (3.4)\n",
      "Requirement already satisfied: six>=1.5 in /root/miniconda3/envs/insitro/lib/python3.9/site-packages (from python-dateutil<3.0.0,>=2.1->botocore<1.31.65,>=1.31.16->aiobotocore~=2.7.0->s3fs) (1.16.0)\n",
      "\u001b[33mWARNING: Running pip as the 'root' user can result in broken permissions and conflicting behaviour with the system package manager. It is recommended to use a virtual environment instead: https://pip.pypa.io/warnings/venv\u001b[0m\u001b[33m\n",
      "\u001b[0m"
     ]
    }
   ],
   "source": [
    "!pip install s3fs"
   ]
  },
  {
   "cell_type": "code",
   "execution_count": 2,
   "id": "a7817dd6-f466-4902-81ea-98691cd6003e",
   "metadata": {
    "tags": []
   },
   "outputs": [],
   "source": [
    "# import scanpy as sc\n",
    "# import s3fs\n",
    "# import pandas as pd\n",
    "\n",
    "# s3 = s3fs.S3FileSystem(anon=False)  # set anon=False if you need to use your AWS credentials\n",
    "\n",
    "# # Use 's3.open' instead of the built-in 'open'\n",
    "# with s3.open('s3://insitro-projects/ALS/ViViD/scseq/RNASEQ486.RNASEQ511.RNASEQ512.ready2use.noaggr.notether.filtered.actionet.h5ad', 'rb') as f:\n",
    "#     adata = sc.read_h5ad(f)"
   ]
  },
  {
   "cell_type": "code",
   "execution_count": 9,
   "id": "da60ee0e-af5e-4615-b08f-866ccb2e1493",
   "metadata": {
    "tags": []
   },
   "outputs": [],
   "source": [
    "import pandas as pd\n",
    "import scipy.io\n",
    "import s3fs\n",
    "import gzip\n",
    "import boto3\n",
    "import gzip\n",
    "from collections import Counter\n",
    "from io import BytesIO\n",
    "from io import StringIO\n",
    "#from Bio import SeqIO\n",
    "import matplotlib.pyplot as plt\n",
    "import numpy as np\n",
    "import matplotlib as mpl\n",
    "%config Completer.use_jedi = False"
   ]
  },
  {
   "cell_type": "code",
   "execution_count": 10,
   "id": "5fe762f4-7136-41ef-9937-d8a3199cf9fa",
   "metadata": {
    "collapsed": true,
    "jupyter": {
     "outputs_hidden": true
    },
    "tags": []
   },
   "outputs": [
    {
     "name": "stdout",
     "output_type": "stream",
     "text": [
      "Matrix:\n",
      "  (67, 0)\t1\n",
      "  (72, 0)\t1\n",
      "  (100, 0)\t1\n",
      "  (111, 0)\t2\n",
      "  (115, 0)\t1\n",
      "  (127, 0)\t1\n",
      "  (129, 0)\t1\n",
      "  (137, 0)\t1\n",
      "  (139, 0)\t2\n",
      "  (148, 0)\t1\n",
      "  (156, 0)\t1\n",
      "  (159, 0)\t3\n",
      "  (161, 0)\t1\n",
      "  (162, 0)\t1\n",
      "  (167, 0)\t1\n",
      "  (182, 0)\t1\n",
      "  (204, 0)\t1\n",
      "  (229, 0)\t2\n",
      "  (247, 0)\t2\n",
      "  (250, 0)\t1\n",
      "  (254, 0)\t2\n",
      "  (274, 0)\t2\n",
      "  (284, 0)\t1\n",
      "  (291, 0)\t1\n",
      "  (306, 0)\t2\n",
      "  :\t:\n",
      "  (61679, 8495)\t1\n",
      "  (61921, 8495)\t1\n",
      "  (61948, 8495)\t2\n",
      "  (61954, 8495)\t2\n",
      "  (61957, 8495)\t1\n",
      "  (61971, 8495)\t1\n",
      "  (61985, 8495)\t3\n",
      "  (61992, 8495)\t1\n",
      "  (61996, 8495)\t1\n",
      "  (62302, 8495)\t1\n",
      "  (62313, 8495)\t1\n",
      "  (62323, 8495)\t1\n",
      "  (62667, 8495)\t10\n",
      "  (62669, 8495)\t57\n",
      "  (62671, 8495)\t4\n",
      "  (62675, 8495)\t3\n",
      "  (62681, 8495)\t15\n",
      "  (62684, 8495)\t18\n",
      "  (62687, 8495)\t6\n",
      "  (62688, 8495)\t8\n",
      "  (62693, 8495)\t6\n",
      "  (62697, 8495)\t6\n",
      "  (62698, 8495)\t1\n",
      "  (62700, 8495)\t7\n",
      "  (62724, 8495)\t2\n",
      "\n",
      "Barcodes:\n",
      "                    0\n",
      "0  AAACCCAAGCCTCTCT-1\n",
      "1  AAACCCAAGCGCCTCA-1\n",
      "2  AAACCCACATTCTCCG-1\n",
      "3  AAACCCATCACTCTTA-1\n",
      "4  AAACCCATCCACGTGG-1\n"
     ]
    }
   ],
   "source": [
    "s3 = s3fs.S3FileSystem(anon=False)\n",
    "\n",
    "# Path to the matrix file\n",
    "matrix_path = 's3://insitro-sequencing-analysis/cellranger/230907_230906_INT176_Insitro_230825_Perturb_StdSC_i230825_Perturb/cellranger/SS107801/outs/filtered_feature_bc_matrix/matrix.mtx.gz'\n",
    "\n",
    "# Path to the barcodes file\n",
    "barcodes_path = 's3://insitro-sequencing-analysis/cellranger/230907_230906_INT176_Insitro_230825_Perturb_StdSC_i230825_Perturb/cellranger/SS107801/outs/filtered_feature_bc_matrix/barcodes.tsv.gz'\n",
    "\n",
    "# Read the matrix file\n",
    "with s3.open(matrix_path, 'rb') as f:\n",
    "    with gzip.open(f, 'rb') as g:\n",
    "        matrix = scipy.io.mmread(g)\n",
    "\n",
    "# Read the barcodes file\n",
    "with s3.open(barcodes_path, 'rb') as f:\n",
    "    barcodes = pd.read_csv(f, sep='\\t', compression='gzip', header=None)\n",
    "\n",
    "print('Matrix:')\n",
    "print(matrix)\n",
    "\n",
    "print('\\nBarcodes:')\n",
    "print(barcodes.head())"
   ]
  },
  {
   "cell_type": "code",
   "execution_count": null,
   "id": "8fd937fb-09e5-4f11-ba84-0006e3d9953e",
   "metadata": {},
   "outputs": [],
   "source": []
  },
  {
   "cell_type": "code",
   "execution_count": 25,
   "id": "66a1be36-a793-4590-801b-1d104b2efeac",
   "metadata": {
    "collapsed": true,
    "jupyter": {
     "outputs_hidden": true,
     "source_hidden": true
    },
    "tags": []
   },
   "outputs": [
    {
     "name": "stdout",
     "output_type": "stream",
     "text": [
      "Matching barcode in first 16 bases: TCTCCGAGTCGCACGT\n",
      "Matching barcode in first 16 bases: ACGATGTGTTTGATCG\n",
      "Matching barcode in first 16 bases: TTTCAGTGTTCCGGTG\n",
      "Total lines checked in 231204_M06199_0347_000000000-LBC2F/fastqs/AACTAGCA_S1_L001_R1_001.fastq.gz: 3064225\n",
      "Total matching lines in first 16 bases in 231204_M06199_0347_000000000-LBC2F/fastqs/AACTAGCA_S1_L001_R1_001.fastq.gz: 391\n",
      "Matching barcode in first 16 bases: AATCGTGGTGGTCCCA\n",
      "Matching barcode in first 16 bases: AGTGCCGCACTTCAAG\n",
      "Matching barcode in first 16 bases: AATCGTGGTGGTCCCA\n",
      "Total lines checked in 231204_M06199_0347_000000000-LBC2F/fastqs/ATGGACTA_S4_L001_R1_001.fastq.gz: 3101797\n",
      "Total matching lines in first 16 bases in 231204_M06199_0347_000000000-LBC2F/fastqs/ATGGACTA_S4_L001_R1_001.fastq.gz: 556\n",
      "Matching barcode in first 16 bases: AGCCAATGTCTTCAAG\n",
      "Matching barcode in first 16 bases: GTTGTCCGTAACACCT\n",
      "Matching barcode in first 16 bases: GTTGTCCGTAACACCT\n",
      "Total lines checked in 231204_M06199_0347_000000000-LBC2F/fastqs/CAATGCTC_S3_L001_R1_001.fastq.gz: 2644282\n",
      "Total matching lines in first 16 bases in 231204_M06199_0347_000000000-LBC2F/fastqs/CAATGCTC_S3_L001_R1_001.fastq.gz: 2303\n",
      "Matching barcode in first 16 bases: TGTTGAGGTAAGCTCT\n",
      "Matching barcode in first 16 bases: TGTTGAGGTAAGCTCT\n",
      "Matching barcode in first 16 bases: TGTTGAGGTAAGCTCT\n",
      "Total lines checked in 231204_M06199_0347_000000000-LBC2F/fastqs/GACATCCG_S2_L001_R1_001.fastq.gz: 3113452\n",
      "Total matching lines in first 16 bases in 231204_M06199_0347_000000000-LBC2F/fastqs/GACATCCG_S2_L001_R1_001.fastq.gz: 180\n"
     ]
    }
   ],
   "source": [
    "#check to see if the barcodes that I have from MiSeq are within the CBC from 10X aggregated file\n",
    "# S3 bucket names\n",
    "bucket_barcodes = 'insitro-sequencing-analysis'\n",
    "bucket_miseq = 'insitro-sequencing-archive'\n",
    "\n",
    "# File paths\n",
    "file_path_barcodes = 'cellranger/230906_INT176_Insitro_230825_Perturb_StdSC_VIVID.aggregated/outs/count/filtered_feature_bc_matrix/barcodes.tsv.gz'\n",
    "file_paths_miseq = [ #here you can choose your FASTQs\n",
    "    '231204_M06199_0347_000000000-LBC2F/fastqs/AACTAGCA_S1_L001_R1_001.fastq.gz',\n",
    "    '231204_M06199_0347_000000000-LBC2F/fastqs/ATGGACTA_S4_L001_R1_001.fastq.gz',\n",
    "    '231204_M06199_0347_000000000-LBC2F/fastqs/CAATGCTC_S3_L001_R1_001.fastq.gz',\n",
    "    '231204_M06199_0347_000000000-LBC2F/fastqs/GACATCCG_S2_L001_R1_001.fastq.gz'\n",
    "    ]\n",
    "\n",
    "# sample ID's\n",
    "AACTAGCA: ViViD-n=12_D10_DMSO_flow\n",
    "ATGGACTA: ViViD-n=12_D10_bort_SOP\n",
    "CAATGCTC: ViViD-n=12_D10_DMSO_SOP\n",
    "GACATCCG: ViViD-n=12_D10_bort_flow\n",
    "\n",
    "\n",
    "\n",
    "\n",
    "\n",
    "\n",
    "# Function to load data from S3\n",
    "s3 = boto3.client('s3')\n",
    "def load_data_from_s3(bucket, file_path):\n",
    "    obj = s3.get_object(Bucket=bucket, Key=file_path)\n",
    "    data = pd.read_csv(obj['Body'], sep='\\t', compression='gzip')\n",
    "    # Remove the \"-1\" from the end of each barcode\n",
    "    data = data.iloc[:, 0].str.slice(0, -2) #slicing off the last two removes the \"-1\" from the end of the barcodes list\n",
    "    return data\n",
    "\n",
    "# Initialize an empty dictionary to store sequences for each Miseq run\n",
    "sequences_dict = {}\n",
    "\n",
    "# Load the Miseq data\n",
    "for file_path_miseq in file_paths_miseq:\n",
    "    obj = s3.get_object(Bucket=bucket_miseq, Key=file_path_miseq)\n",
    "\n",
    "    # Assuming gzipped is your gzipped fastq data\n",
    "    with gzip.GzipFile(fileobj=BytesIO(obj['Body'].read())) as f:\n",
    "        sequences = []  # This will now be local to each loop iteration\n",
    "        print_counter = 0  # Add a counter for printed statements\n",
    "        total_lines = 0\n",
    "        matching_lines = 0\n",
    "\n",
    "        for i, line in enumerate(f):\n",
    "            # Only consider sequence lines\n",
    "            if i % 4 == 1: #only take the sequence values of the MiSeq output\n",
    "                total_lines += 1\n",
    "                # Decode the line from bytes to a unicode string\n",
    "                decoded_line = line.decode('utf-8').strip()\n",
    "\n",
    "                # Check the first 16 bases\n",
    "                if decoded_line[:16] in barcodes_set:\n",
    "                    sequences.append(decoded_line)\n",
    "                    matching_lines += 1\n",
    "                    if print_counter < 3:  # Only print the first 3 matches\n",
    "                        print(f'Matching barcode in first 16 bases: {decoded_line[:16]}')\n",
    "                        print_counter += 1\n",
    "\n",
    "    # Store the sequences in the dictionary\n",
    "    sequences_dict[file_path_miseq] = sequences\n",
    "\n",
    "    print(f\"Total lines checked in {file_path_miseq}: {total_lines}\")\n",
    "    print(f\"Total matching lines in first 16 bases in {file_path_miseq}: {matching_lines}\")\n",
    "    if matching_lines == 0:\n",
    "        print(f\"No matching barcodes found in {file_path_miseq}\")"
   ]
  },
  {
   "cell_type": "code",
   "execution_count": 14,
   "id": "389d64a8-6c83-4425-b4c4-4c9fbcbec202",
   "metadata": {
    "tags": []
   },
   "outputs": [],
   "source": [
    "#check to see if the barcodes that I have from MiSeq are within the CBC from 10X aggregated file\n",
    "import boto3\n",
    "s3 = boto3.Session().resource('s3')\n",
    "\n",
    "# S3 bucket names\n",
    "bucket_barcodes = 'insitro-sequencing-analysis'\n",
    "bucket_miseq = 'insitro-sequencing-archive'\n",
    "bucket = s3.Bucket(bucket_miseq)\n",
    "\n",
    "# File paths\n",
    "file_path_barcodes = 'cellranger/230906_INT176_Insitro_230825_Perturb_StdSC_VIVID.aggregated/outs/count/filtered_feature_bc_matrix/barcodes.tsv.gz'\n",
    "\n",
    "# Define the prefix (folder path)\n",
    "prefix = '231214_M06199_0353_000000000-LBRP4/fastq/'\n",
    "# List all files in the bucket that start with the prefix and end with 'R1_001.fastq.gz'\n",
    "file_paths_miseq = [obj.key for obj in bucket.objects.filter(Prefix=prefix) if obj.key.endswith('R1_001.fastq.gz')]"
   ]
  },
  {
   "cell_type": "code",
   "execution_count": 15,
   "id": "5fcfb4c9-158f-4a0e-b3d7-de4ddab4a692",
   "metadata": {
    "tags": []
   },
   "outputs": [
    {
     "name": "stdout",
     "output_type": "stream",
     "text": [
      "231214_M06199_0353_000000000-LBRP4/fastq/AAGGCAATTTAC_S10_L001_R1_001.fastq.gz\n",
      "231214_M06199_0353_000000000-LBRP4/fastq/ACGTCAACTGCT_S4_L001_R1_001.fastq.gz\n",
      "231214_M06199_0353_000000000-LBRP4/fastq/ATGACCTCTTCG_S2_L001_R1_001.fastq.gz\n",
      "231214_M06199_0353_000000000-LBRP4/fastq/CCTGTCGCTATC_S7_L001_R1_001.fastq.gz\n",
      "231214_M06199_0353_000000000-LBRP4/fastq/CGTAATTTTGTA_S5_L001_R1_001.fastq.gz\n",
      "231214_M06199_0353_000000000-LBRP4/fastq/GCTATCCCCACG_S1_L001_R1_001.fastq.gz\n",
      "231214_M06199_0353_000000000-LBRP4/fastq/GGACGCACCATT_S3_L001_R1_001.fastq.gz\n",
      "231214_M06199_0353_000000000-LBRP4/fastq/GTTAATCCACCG_S11_L001_R1_001.fastq.gz\n",
      "231214_M06199_0353_000000000-LBRP4/fastq/TCGGAAGCAAAC_S9_L001_R1_001.fastq.gz\n",
      "231214_M06199_0353_000000000-LBRP4/fastq/TGCGCCTTACTC_S8_L001_R1_001.fastq.gz\n",
      "231214_M06199_0353_000000000-LBRP4/fastq/TTAGCCCTCGAT_S6_L001_R1_001.fastq.gz\n",
      "231214_M06199_0353_000000000-LBRP4/fastq/Undetermined_S0_L001_R1_001.fastq.gz\n"
     ]
    }
   ],
   "source": [
    "# Print all the file paths\n",
    "for file_path in file_paths_miseq:\n",
    "    print(file_path)"
   ]
  },
  {
   "cell_type": "code",
   "execution_count": 25,
   "id": "f9c3b4a7-91a6-4ea1-8a59-39433e916f2e",
   "metadata": {
    "tags": []
   },
   "outputs": [
    {
     "name": "stdout",
     "output_type": "stream",
     "text": [
      "Matching barcode in first 16 bases: TCTCCGAGTCGCACGT\n",
      "Matching barcode in first 16 bases: ACGATGTGTTTGATCG\n",
      "Matching barcode in first 16 bases: TTTCAGTGTTCCGGTG\n",
      "Total lines checked in 231204_M06199_0347_000000000-LBC2F/fastqs/AACTAGCA_S1_L001_R1_001.fastq.gz: 3064225\n",
      "Total matching lines in first 16 bases in 231204_M06199_0347_000000000-LBC2F/fastqs/AACTAGCA_S1_L001_R1_001.fastq.gz: 391\n",
      "Matching barcode in first 16 bases: AATCGTGGTGGTCCCA\n",
      "Matching barcode in first 16 bases: AGTGCCGCACTTCAAG\n",
      "Matching barcode in first 16 bases: AATCGTGGTGGTCCCA\n",
      "Total lines checked in 231204_M06199_0347_000000000-LBC2F/fastqs/ATGGACTA_S4_L001_R1_001.fastq.gz: 3101797\n",
      "Total matching lines in first 16 bases in 231204_M06199_0347_000000000-LBC2F/fastqs/ATGGACTA_S4_L001_R1_001.fastq.gz: 556\n",
      "Matching barcode in first 16 bases: AGCCAATGTCTTCAAG\n",
      "Matching barcode in first 16 bases: GTTGTCCGTAACACCT\n",
      "Matching barcode in first 16 bases: GTTGTCCGTAACACCT\n",
      "Total lines checked in 231204_M06199_0347_000000000-LBC2F/fastqs/CAATGCTC_S3_L001_R1_001.fastq.gz: 2644282\n",
      "Total matching lines in first 16 bases in 231204_M06199_0347_000000000-LBC2F/fastqs/CAATGCTC_S3_L001_R1_001.fastq.gz: 2303\n",
      "Matching barcode in first 16 bases: TGTTGAGGTAAGCTCT\n",
      "Matching barcode in first 16 bases: TGTTGAGGTAAGCTCT\n",
      "Matching barcode in first 16 bases: TGTTGAGGTAAGCTCT\n",
      "Total lines checked in 231204_M06199_0347_000000000-LBC2F/fastqs/GACATCCG_S2_L001_R1_001.fastq.gz: 3113452\n",
      "Total matching lines in first 16 bases in 231204_M06199_0347_000000000-LBC2F/fastqs/GACATCCG_S2_L001_R1_001.fastq.gz: 180\n"
     ]
    }
   ],
   "source": [
    "#check to see if the barcodes that I have from MiSeq are within the CBC from 10X aggregated file\n",
    "\n",
    "# Function to load data from S3\n",
    "s3 = boto3.client('s3')\n",
    "def load_data_from_s3(bucket, file_path):\n",
    "    obj = s3.get_object(Bucket=bucket, Key=file_path)\n",
    "    data = pd.read_csv(obj['Body'], sep='\\t', compression='gzip')\n",
    "    # Remove the \"-1\" from the end of each barcode\n",
    "    data = data.iloc[:, 0].str.slice(0, -2) #slicing off the last two removes the \"-1\" from the end of the barcodes list\n",
    "    return data\n",
    "\n",
    "# Initialize an empty dictionary to store sequences for each Miseq run\n",
    "sequences_dict = {}\n",
    "\n",
    "# Load the Miseq data\n",
    "for file_path_miseq in file_paths_miseq:\n",
    "    obj = s3.get_object(Bucket=bucket_miseq, Key=file_path_miseq)\n",
    "\n",
    "    # Assuming gzipped is your gzipped fastq data\n",
    "    with gzip.GzipFile(fileobj=BytesIO(obj['Body'].read())) as f:\n",
    "        sequences = []  # This will now be local to each loop iteration\n",
    "        print_counter = 0  # Add a counter for printed statements\n",
    "        total_lines = 0\n",
    "        matching_lines = 0\n",
    "\n",
    "        for i, line in enumerate(f):\n",
    "            # Only consider sequence lines\n",
    "            if i % 4 == 1: #only take the sequence values of the MiSeq output\n",
    "                total_lines += 1\n",
    "                # Decode the line from bytes to a unicode string\n",
    "                decoded_line = line.decode('utf-8').strip()\n",
    "\n",
    "                # Check the first 16 bases\n",
    "                if decoded_line[:16] in barcodes_set:\n",
    "                    sequences.append(decoded_line)\n",
    "                    matching_lines += 1\n",
    "                    if print_counter < 3:  # Only print the first 3 matches\n",
    "                        print(f'Matching barcode in first 16 bases: {decoded_line[:16]}')\n",
    "                        print_counter += 1\n",
    "\n",
    "    # Store the sequences in the dictionary\n",
    "    sequences_dict[file_path_miseq] = sequences\n",
    "\n",
    "    print(f\"Total lines checked in {file_path_miseq}: {total_lines}\")\n",
    "    print(f\"Total matching lines in first 16 bases in {file_path_miseq}: {matching_lines}\")\n",
    "    if matching_lines == 0:\n",
    "        print(f\"No matching barcodes found in {file_path_miseq}\")"
   ]
  },
  {
   "cell_type": "code",
   "execution_count": 27,
   "id": "d017f228-9255-4f92-978a-a368d367f718",
   "metadata": {},
   "outputs": [
    {
     "data": {
      "text/plain": [
       "4"
      ]
     },
     "execution_count": 27,
     "metadata": {},
     "output_type": "execute_result"
    }
   ],
   "source": [
    "len(sequences_dict)"
   ]
  },
  {
   "cell_type": "code",
   "execution_count": null,
   "id": "e67d1680-f201-4e96-88bc-d84a2a4152a4",
   "metadata": {},
   "outputs": [],
   "source": []
  },
  {
   "cell_type": "code",
   "execution_count": null,
   "id": "223ea045-0927-4b99-a948-32381b2f11ab",
   "metadata": {},
   "outputs": [],
   "source": []
  },
  {
   "cell_type": "code",
   "execution_count": null,
   "id": "e21d2902-4230-488d-94cb-e18439563ae8",
   "metadata": {},
   "outputs": [],
   "source": [
    "df = pd.DataFrame(adata.X, columns=adata.var_names)\n",
    "print(df.head())\n"
   ]
  },
  {
   "cell_type": "code",
   "execution_count": 11,
   "id": "f44d108c-3265-4a57-a8f9-345d2210d2e7",
   "metadata": {
    "tags": []
   },
   "outputs": [
    {
     "name": "stdout",
     "output_type": "stream",
     "text": [
      "\n",
      "Barcodes:\n",
      "0     AAACCCAAGCGCCTCA\n",
      "1     AAACCCACATTCTCCG\n",
      "2     AAACCCATCACTCTTA\n",
      "3     AAACCCATCCACGTGG\n",
      "4     AAACCCATCGATTTCT\n",
      "            ...       \n",
      "95    AACAAGACAAATCAAG\n",
      "96    AACAAGACAGTGTGGA\n",
      "97    AACAAGACATTAAGCC\n",
      "98    AACAAGAGTGAATGTA\n",
      "99    AACAAGAGTGCACATT\n",
      "Name: AAACCCAAGCCTCTCT-1, Length: 100, dtype: object\n",
      "8495\n"
     ]
    }
   ],
   "source": [
    "print('\\nBarcodes:')\n",
    "print(barcodes.head(100))\n",
    "print(len(barcodes))"
   ]
  },
  {
   "cell_type": "code",
   "execution_count": null,
   "id": "a3c5022f-9338-4f6a-b782-72ca48df1ccf",
   "metadata": {},
   "outputs": [],
   "source": [
    "combined_barcodes = pd.concat([existing_barcodes, new_barcodes])"
   ]
  },
  {
   "cell_type": "code",
   "execution_count": 19,
   "id": "de2adc96-851c-4557-9bda-fbb7f406da41",
   "metadata": {
    "tags": []
   },
   "outputs": [
    {
     "name": "stderr",
     "output_type": "stream",
     "text": [
      "/root/miniconda3/envs/insitro/lib/python3.9/site-packages/anndata/__init__.py:51: FutureWarning: `anndata.read` is deprecated, use `anndata.read_h5ad` instead. `ad.read` will be removed in mid 2024.\n",
      "  warnings.warn(\n",
      "/root/miniconda3/envs/insitro/lib/python3.9/site-packages/anndata/utils.py:260: UserWarning: Suffix used (-[0-9]+) to deduplicate index values may make index values difficult to interpret. There values with a similar suffixes in the index. Consider using a different delimiter by passing `join={delimiter}`Example key collisions generated by the make_index_unique algorithm: ['SNORD116-1', 'SNORD116-2', 'SNORD116-3', 'SNORD116-4', 'SNORD116-5']\n",
      "  warnings.warn(\n"
     ]
    },
    {
     "name": "stdout",
     "output_type": "stream",
     "text": [
      "AnnData object with n_obs × n_vars = 8496 × 62727\n",
      "    var: 'gene_ids', 'feature_types'\n"
     ]
    }
   ],
   "source": [
    "# import os\n",
    "# import scanpy as sc\n",
    "# import pandas as pd\n",
    "# import s3fs\n",
    "\n",
    "# s3 = s3fs.S3FileSystem(anon=False)\n",
    "\n",
    "# # Paths to the matrix, barcodes, and genes files\n",
    "# matrix_path = 'insitro-sequencing-analysis/cellranger/230907_230906_INT176_Insitro_230825_Perturb_StdSC_i230825_Perturb/cellranger/SS107801/outs/filtered_feature_bc_matrix/matrix.mtx.gz'\n",
    "# barcodes_path = 'insitro-sequencing-analysis/cellranger/230907_230906_INT176_Insitro_230825_Perturb_StdSC_i230825_Perturb/cellranger/SS107801/outs/filtered_feature_bc_matrix/barcodes.tsv.gz'\n",
    "# genes_path = 'insitro-sequencing-analysis/cellranger/230907_230906_INT176_Insitro_230825_Perturb_StdSC_i230825_Perturb/cellranger/SS107801/outs/filtered_feature_bc_matrix/features.tsv.gz'  # replace with your actual genes file path\n",
    "\n",
    "# # Download the files\n",
    "# s3.get(matrix_path, 'matrix.mtx.gz')\n",
    "# s3.get(barcodes_path, 'barcodes.tsv.gz')\n",
    "# s3.get(genes_path, 'features.tsv.gz')\n",
    "\n",
    "# # Get the current directory\n",
    "# current_dir = os.getcwd()\n",
    "\n",
    "# # Read the data into an AnnData object\n",
    "# adata = sc.read_10x_mtx(\n",
    "#     current_dir,  # provide the directory, not the matrix file path\n",
    "#     var_names='gene_symbols',\n",
    "#     cache=True\n",
    "# )\n",
    "\n",
    "# # Read the barcodes file\n",
    "# with open('barcodes.tsv.gz', 'rb') as f:\n",
    "#     barcodes = pd.read_csv(f, sep='\\t', compression='gzip', header=None)\n",
    "\n",
    "# # Set the cell barcodes as the index of the AnnData object\n",
    "# adata.obs.index = barcodes[0]\n",
    "\n",
    "# print(adata)\n",
    "\n",
    "# # Remove the downloaded files\n",
    "# os.remove(os.path.join(current_dir, 'matrix.mtx.gz'))\n",
    "# os.remove(os.path.join(current_dir, 'barcodes.tsv.gz'))\n",
    "# os.remove(os.path.join(current_dir, 'features.tsv.gz'))"
   ]
  },
  {
   "cell_type": "code",
   "execution_count": 24,
   "id": "f1f9144c-8db4-496c-aa76-83be20e77d2e",
   "metadata": {
    "tags": []
   },
   "outputs": [
    {
     "name": "stdout",
     "output_type": "stream",
     "text": [
      "                    total_counts\n",
      "0                               \n",
      "ACTGTCCGTAGAATAC-1       26758.0\n",
      "CTCCACAAGACATAGT-1       23982.0\n",
      "ATTTCTGTCGCCAGTG-1       23732.0\n",
      "TACACCCCAAGACCGA-1       22562.0\n",
      "CTACATTCATATCTCT-1       21470.0\n",
      "...                          ...\n",
      "AGACCATTCTGAATGC-1         503.0\n",
      "GTTGTGAGTGTTGACT-1         501.0\n",
      "GTCATTTGTGTCCTAA-1         500.0\n",
      "ATTGGGTTCTGAGAGG-1         500.0\n",
      "GCAACCGTCGGTCTGG-1         500.0\n",
      "\n",
      "[8496 rows x 1 columns]\n"
     ]
    }
   ],
   "source": [
    "# Sort the DataFrame by 'total_counts' in descending order\n",
    "sorted_adata = adata.obs.sort_values(by='total_counts', ascending=False)\n",
    "\n",
    "# Print the sorted DataFrame\n",
    "print(sorted_adata)"
   ]
  },
  {
   "cell_type": "code",
   "execution_count": 29,
   "id": "da604f1c-b267-4c24-bbc6-7eee045a3622",
   "metadata": {
    "tags": []
   },
   "outputs": [
    {
     "data": {
      "image/png": "[encoded data removed]",
      "text/plain": [
       "<Figure size 640x480 with 1 Axes>"
      ]
     },
     "metadata": {},
     "output_type": "display_data"
    }
   ],
   "source": [
    "import matplotlib.pyplot as plt\n",
    "\n",
    "# Plot a histogram of the total UMI counts\n",
    "plt.hist(adata.obs['total_counts'], bins=100)\n",
    "plt.xlabel('Total UMI counts')\n",
    "plt.ylabel('Number of cells')\n",
    "plt.title('Histogram of total UMI counts per cell')\n",
    "plt.savefig('umi_histogram.png')"
   ]
  },
  {
   "cell_type": "code",
   "execution_count": 23,
   "id": "d3348e97-c4b8-4b4c-b428-28f357254585",
   "metadata": {
    "tags": []
   },
   "outputs": [
    {
     "name": "stdout",
     "output_type": "stream",
     "text": [
      "Empty DataFrame\n",
      "Columns: []\n",
      "Index: [AAACCCAAGCCTCTCT-1, AAACCCAAGCGCCTCA-1, AAACCCACATTCTCCG-1, AAACCCATCACTCTTA-1, AAACCCATCCACGTGG-1]\n",
      "                    total_counts\n",
      "0                               \n",
      "AAACCCAAGCCTCTCT-1        8370.0\n",
      "AAACCCAAGCGCCTCA-1        1296.0\n",
      "AAACCCACATTCTCCG-1        2904.0\n",
      "AAACCCATCACTCTTA-1        2063.0\n",
      "AAACCCATCCACGTGG-1        1321.0\n",
      "...                          ...\n",
      "TTTGTTGGTACGACTT-1        2948.0\n",
      "TTTGTTGGTGAATGAT-1        1929.0\n",
      "TTTGTTGGTGCAATGG-1       11995.0\n",
      "TTTGTTGTCATTGTGG-1        1754.0\n",
      "TTTGTTGTCGGTGAAG-1        3411.0\n",
      "\n",
      "[8496 rows x 1 columns]\n"
     ]
    }
   ],
   "source": [
    "#print(adata.X[:5, :5].toarray())\n",
    "print(adata.obs.head())  # print the first few cell barcodes\n",
    "#print(adata.var.head())  # print the first few gene IDs and feature types\n"
   ]
  },
  {
   "cell_type": "code",
   "execution_count": null,
   "id": "4592e5d0-e0d7-4eb3-a401-35f3aa6150bf",
   "metadata": {},
   "outputs": [],
   "source": [
    "# Group by UMI and CBC, and count the number of occurrences\n",
    "deduplicated = df.groupby(['UMI', 'CBC']).size().reset_index(name='counts')\n",
    "\n",
    "# Now, each row in `deduplicated` represents a unique (UMI, CBC) pair"
   ]
  },
  {
   "cell_type": "code",
   "execution_count": 3,
   "id": "ccb52f5d-a2b3-42da-9b56-86a303d55667",
   "metadata": {
    "tags": []
   },
   "outputs": [],
   "source": [
    "##\n",
    "import Levenshtein as lv"
   ]
  },
  {
   "cell_type": "code",
   "execution_count": null,
   "id": "e1e61eac-58cd-475e-9286-b65be73aa8e0",
   "metadata": {},
   "outputs": [],
   "source": [
    "##Error Correction\n",
    "\n",
    "\n",
    "def correct_errors(row):\n",
    "    # For each UMI, find the most similar UMI that has a higher count\n",
    "    similar = deduplicated[deduplicated['counts'] > row['counts']]\n",
    "    similar['distance'] = similar['UMI'].apply(lambda x: lv.distance(x, row['UMI']))\n",
    "\n",
    "    # If there's a UMI that's very similar (e.g., edit distance of 1), correct to that UMI\n",
    "    if not similar.empty and similar['distance'].min() == 1:\n",
    "        return similar.loc[similar['distance'].idxmin()]['UMI']\n",
    "    else:\n",
    "        return row['UMI']\n",
    "\n",
    "# Apply the error correction function to each row\n",
    "deduplicated['UMI_corrected'] = deduplicated.apply(correct_errors, axis=1)"
   ]
  }
 ],
 "metadata": {
  "availableInstances": [
   {
    "_defaultOrder": 0,
    "_isFastLaunch": true,
    "category": "General purpose",
    "gpuNum": 0,
    "hideHardwareSpecs": false,
    "memoryGiB": 4,
    "name": "ml.t3.medium",
    "vcpuNum": 2
   },
   {
    "_defaultOrder": 1,
    "_isFastLaunch": false,
    "category": "General purpose",
    "gpuNum": 0,
    "hideHardwareSpecs": false,
    "memoryGiB": 8,
    "name": "ml.t3.large",
    "vcpuNum": 2
   },
   {
    "_defaultOrder": 2,
    "_isFastLaunch": false,
    "category": "General purpose",
    "gpuNum": 0,
    "hideHardwareSpecs": false,
    "memoryGiB": 16,
    "name": "ml.t3.xlarge",
    "vcpuNum": 4
   },
   {
    "_defaultOrder": 3,
    "_isFastLaunch": false,
    "category": "General purpose",
    "gpuNum": 0,
    "hideHardwareSpecs": false,
    "memoryGiB": 32,
    "name": "ml.t3.2xlarge",
    "vcpuNum": 8
   },
   {
    "_defaultOrder": 4,
    "_isFastLaunch": true,
    "category": "General purpose",
    "gpuNum": 0,
    "hideHardwareSpecs": false,
    "memoryGiB": 8,
    "name": "ml.m5.large",
    "vcpuNum": 2
   },
   {
    "_defaultOrder": 5,
    "_isFastLaunch": false,
    "category": "General purpose",
    "gpuNum": 0,
    "hideHardwareSpecs": false,
    "memoryGiB": 16,
    "name": "ml.m5.xlarge",
    "vcpuNum": 4
   },
   {
    "_defaultOrder": 6,
    "_isFastLaunch": false,
    "category": "General purpose",
    "gpuNum": 0,
    "hideHardwareSpecs": false,
    "memoryGiB": 32,
    "name": "ml.m5.2xlarge",
    "vcpuNum": 8
   },
   {
    "_defaultOrder": 7,
    "_isFastLaunch": false,
    "category": "General purpose",
    "gpuNum": 0,
    "hideHardwareSpecs": false,
    "memoryGiB": 64,
    "name": "ml.m5.4xlarge",
    "vcpuNum": 16
   },
   {
    "_defaultOrder": 8,
    "_isFastLaunch": false,
    "category": "General purpose",
    "gpuNum": 0,
    "hideHardwareSpecs": false,
    "memoryGiB": 128,
    "name": "ml.m5.8xlarge",
    "vcpuNum": 32
   },
   {
    "_defaultOrder": 9,
    "_isFastLaunch": false,
    "category": "General purpose",
    "gpuNum": 0,
    "hideHardwareSpecs": false,
    "memoryGiB": 192,
    "name": "ml.m5.12xlarge",
    "vcpuNum": 48
   },
   {
    "_defaultOrder": 10,
    "_isFastLaunch": false,
    "category": "General purpose",
    "gpuNum": 0,
    "hideHardwareSpecs": false,
    "memoryGiB": 256,
    "name": "ml.m5.16xlarge",
    "vcpuNum": 64
   },
   {
    "_defaultOrder": 11,
    "_isFastLaunch": false,
    "category": "General purpose",
    "gpuNum": 0,
    "hideHardwareSpecs": false,
    "memoryGiB": 384,
    "name": "ml.m5.24xlarge",
    "vcpuNum": 96
   },
   {
    "_defaultOrder": 12,
    "_isFastLaunch": false,
    "category": "General purpose",
    "gpuNum": 0,
    "hideHardwareSpecs": false,
    "memoryGiB": 8,
    "name": "ml.m5d.large",
    "vcpuNum": 2
   },
   {
    "_defaultOrder": 13,
    "_isFastLaunch": false,
    "category": "General purpose",
    "gpuNum": 0,
    "hideHardwareSpecs": false,
    "memoryGiB": 16,
    "name": "ml.m5d.xlarge",
    "vcpuNum": 4
   },
   {
    "_defaultOrder": 14,
    "_isFastLaunch": false,
    "category": "General purpose",
    "gpuNum": 0,
    "hideHardwareSpecs": false,
    "memoryGiB": 32,
    "name": "ml.m5d.2xlarge",
    "vcpuNum": 8
   },
   {
    "_defaultOrder": 15,
    "_isFastLaunch": false,
    "category": "General purpose",
    "gpuNum": 0,
    "hideHardwareSpecs": false,
    "memoryGiB": 64,
    "name": "ml.m5d.4xlarge",
    "vcpuNum": 16
   },
   {
    "_defaultOrder": 16,
    "_isFastLaunch": false,
    "category": "General purpose",
    "gpuNum": 0,
    "hideHardwareSpecs": false,
    "memoryGiB": 128,
    "name": "ml.m5d.8xlarge",
    "vcpuNum": 32
   },
   {
    "_defaultOrder": 17,
    "_isFastLaunch": false,
    "category": "General purpose",
    "gpuNum": 0,
    "hideHardwareSpecs": false,
    "memoryGiB": 192,
    "name": "ml.m5d.12xlarge",
    "vcpuNum": 48
   },
   {
    "_defaultOrder": 18,
    "_isFastLaunch": false,
    "category": "General purpose",
    "gpuNum": 0,
    "hideHardwareSpecs": false,
    "memoryGiB": 256,
    "name": "ml.m5d.16xlarge",
    "vcpuNum": 64
   },
   {
    "_defaultOrder": 19,
    "_isFastLaunch": false,
    "category": "General purpose",
    "gpuNum": 0,
    "hideHardwareSpecs": false,
    "memoryGiB": 384,
    "name": "ml.m5d.24xlarge",
    "vcpuNum": 96
   },
   {
    "_defaultOrder": 20,
    "_isFastLaunch": false,
    "category": "General purpose",
    "gpuNum": 0,
    "hideHardwareSpecs": true,
    "memoryGiB": 0,
    "name": "ml.geospatial.interactive",
    "supportedImageNames": [
     "sagemaker-geospatial-v1-0"
    ],
    "vcpuNum": 0
   },
   {
    "_defaultOrder": 21,
    "_isFastLaunch": true,
    "category": "Compute optimized",
    "gpuNum": 0,
    "hideHardwareSpecs": false,
    "memoryGiB": 4,
    "name": "ml.c5.large",
    "vcpuNum": 2
   },
   {
    "_defaultOrder": 22,
    "_isFastLaunch": false,
    "category": "Compute optimized",
    "gpuNum": 0,
    "hideHardwareSpecs": false,
    "memoryGiB": 8,
    "name": "ml.c5.xlarge",
    "vcpuNum": 4
   },
   {
    "_defaultOrder": 23,
    "_isFastLaunch": false,
    "category": "Compute optimized",
    "gpuNum": 0,
    "hideHardwareSpecs": false,
    "memoryGiB": 16,
    "name": "ml.c5.2xlarge",
    "vcpuNum": 8
   },
   {
    "_defaultOrder": 24,
    "_isFastLaunch": false,
    "category": "Compute optimized",
    "gpuNum": 0,
    "hideHardwareSpecs": false,
    "memoryGiB": 32,
    "name": "ml.c5.4xlarge",
    "vcpuNum": 16
   },
   {
    "_defaultOrder": 25,
    "_isFastLaunch": false,
    "category": "Compute optimized",
    "gpuNum": 0,
    "hideHardwareSpecs": false,
    "memoryGiB": 72,
    "name": "ml.c5.9xlarge",
    "vcpuNum": 36
   },
   {
    "_defaultOrder": 26,
    "_isFastLaunch": false,
    "category": "Compute optimized",
    "gpuNum": 0,
    "hideHardwareSpecs": false,
    "memoryGiB": 96,
    "name": "ml.c5.12xlarge",
    "vcpuNum": 48
   },
   {
    "_defaultOrder": 27,
    "_isFastLaunch": false,
    "category": "Compute optimized",
    "gpuNum": 0,
    "hideHardwareSpecs": false,
    "memoryGiB": 144,
    "name": "ml.c5.18xlarge",
    "vcpuNum": 72
   },
   {
    "_defaultOrder": 28,
    "_isFastLaunch": false,
    "category": "Compute optimized",
    "gpuNum": 0,
    "hideHardwareSpecs": false,
    "memoryGiB": 192,
    "name": "ml.c5.24xlarge",
    "vcpuNum": 96
   },
   {
    "_defaultOrder": 29,
    "_isFastLaunch": true,
    "category": "Accelerated computing",
    "gpuNum": 1,
    "hideHardwareSpecs": false,
    "memoryGiB": 16,
    "name": "ml.g4dn.xlarge",
    "vcpuNum": 4
   },
   {
    "_defaultOrder": 30,
    "_isFastLaunch": false,
    "category": "Accelerated computing",
    "gpuNum": 1,
    "hideHardwareSpecs": false,
    "memoryGiB": 32,
    "name": "ml.g4dn.2xlarge",
    "vcpuNum": 8
   },
   {
    "_defaultOrder": 31,
    "_isFastLaunch": false,
    "category": "Accelerated computing",
    "gpuNum": 1,
    "hideHardwareSpecs": false,
    "memoryGiB": 64,
    "name": "ml.g4dn.4xlarge",
    "vcpuNum": 16
   },
   {
    "_defaultOrder": 32,
    "_isFastLaunch": false,
    "category": "Accelerated computing",
    "gpuNum": 1,
    "hideHardwareSpecs": false,
    "memoryGiB": 128,
    "name": "ml.g4dn.8xlarge",
    "vcpuNum": 32
   },
   {
    "_defaultOrder": 33,
    "_isFastLaunch": false,
    "category": "Accelerated computing",
    "gpuNum": 4,
    "hideHardwareSpecs": false,
    "memoryGiB": 192,
    "name": "ml.g4dn.12xlarge",
    "vcpuNum": 48
   },
   {
    "_defaultOrder": 34,
    "_isFastLaunch": false,
    "category": "Accelerated computing",
    "gpuNum": 1,
    "hideHardwareSpecs": false,
    "memoryGiB": 256,
    "name": "ml.g4dn.16xlarge",
    "vcpuNum": 64
   },
   {
    "_defaultOrder": 35,
    "_isFastLaunch": false,
    "category": "Accelerated computing",
    "gpuNum": 1,
    "hideHardwareSpecs": false,
    "memoryGiB": 61,
    "name": "ml.p3.2xlarge",
    "vcpuNum": 8
   },
   {
    "_defaultOrder": 36,
    "_isFastLaunch": false,
    "category": "Accelerated computing",
    "gpuNum": 4,
    "hideHardwareSpecs": false,
    "memoryGiB": 244,
    "name": "ml.p3.8xlarge",
    "vcpuNum": 32
   },
   {
    "_defaultOrder": 37,
    "_isFastLaunch": false,
    "category": "Accelerated computing",
    "gpuNum": 8,
    "hideHardwareSpecs": false,
    "memoryGiB": 488,
    "name": "ml.p3.16xlarge",
    "vcpuNum": 64
   },
   {
    "_defaultOrder": 38,
    "_isFastLaunch": false,
    "category": "Accelerated computing",
    "gpuNum": 8,
    "hideHardwareSpecs": false,
    "memoryGiB": 768,
    "name": "ml.p3dn.24xlarge",
    "vcpuNum": 96
   },
   {
    "_defaultOrder": 39,
    "_isFastLaunch": false,
    "category": "Memory Optimized",
    "gpuNum": 0,
    "hideHardwareSpecs": false,
    "memoryGiB": 16,
    "name": "ml.r5.large",
    "vcpuNum": 2
   },
   {
    "_defaultOrder": 40,
    "_isFastLaunch": false,
    "category": "Memory Optimized",
    "gpuNum": 0,
    "hideHardwareSpecs": false,
    "memoryGiB": 32,
    "name": "ml.r5.xlarge",
    "vcpuNum": 4
   },
   {
    "_defaultOrder": 41,
    "_isFastLaunch": false,
    "category": "Memory Optimized",
    "gpuNum": 0,
    "hideHardwareSpecs": false,
    "memoryGiB": 64,
    "name": "ml.r5.2xlarge",
    "vcpuNum": 8
   },
   {
    "_defaultOrder": 42,
    "_isFastLaunch": false,
    "category": "Memory Optimized",
    "gpuNum": 0,
    "hideHardwareSpecs": false,
    "memoryGiB": 128,
    "name": "ml.r5.4xlarge",
    "vcpuNum": 16
   },
   {
    "_defaultOrder": 43,
    "_isFastLaunch": false,
    "category": "Memory Optimized",
    "gpuNum": 0,
    "hideHardwareSpecs": false,
    "memoryGiB": 256,
    "name": "ml.r5.8xlarge",
    "vcpuNum": 32
   },
   {
    "_defaultOrder": 44,
    "_isFastLaunch": false,
    "category": "Memory Optimized",
    "gpuNum": 0,
    "hideHardwareSpecs": false,
    "memoryGiB": 384,
    "name": "ml.r5.12xlarge",
    "vcpuNum": 48
   },
   {
    "_defaultOrder": 45,
    "_isFastLaunch": false,
    "category": "Memory Optimized",
    "gpuNum": 0,
    "hideHardwareSpecs": false,
    "memoryGiB": 512,
    "name": "ml.r5.16xlarge",
    "vcpuNum": 64
   },
   {
    "_defaultOrder": 46,
    "_isFastLaunch": false,
    "category": "Memory Optimized",
    "gpuNum": 0,
    "hideHardwareSpecs": false,
    "memoryGiB": 768,
    "name": "ml.r5.24xlarge",
    "vcpuNum": 96
   },
   {
    "_defaultOrder": 47,
    "_isFastLaunch": false,
    "category": "Accelerated computing",
    "gpuNum": 1,
    "hideHardwareSpecs": false,
    "memoryGiB": 16,
    "name": "ml.g5.xlarge",
    "vcpuNum": 4
   },
   {
    "_defaultOrder": 48,
    "_isFastLaunch": false,
    "category": "Accelerated computing",
    "gpuNum": 1,
    "hideHardwareSpecs": false,
    "memoryGiB": 32,
    "name": "ml.g5.2xlarge",
    "vcpuNum": 8
   },
   {
    "_defaultOrder": 49,
    "_isFastLaunch": false,
    "category": "Accelerated computing",
    "gpuNum": 1,
    "hideHardwareSpecs": false,
    "memoryGiB": 64,
    "name": "ml.g5.4xlarge",
    "vcpuNum": 16
   },
   {
    "_defaultOrder": 50,
    "_isFastLaunch": false,
    "category": "Accelerated computing",
    "gpuNum": 1,
    "hideHardwareSpecs": false,
    "memoryGiB": 128,
    "name": "ml.g5.8xlarge",
    "vcpuNum": 32
   },
   {
    "_defaultOrder": 51,
    "_isFastLaunch": false,
    "category": "Accelerated computing",
    "gpuNum": 1,
    "hideHardwareSpecs": false,
    "memoryGiB": 256,
    "name": "ml.g5.16xlarge",
    "vcpuNum": 64
   },
   {
    "_defaultOrder": 52,
    "_isFastLaunch": false,
    "category": "Accelerated computing",
    "gpuNum": 4,
    "hideHardwareSpecs": false,
    "memoryGiB": 192,
    "name": "ml.g5.12xlarge",
    "vcpuNum": 48
   },
   {
    "_defaultOrder": 53,
    "_isFastLaunch": false,
    "category": "Accelerated computing",
    "gpuNum": 4,
    "hideHardwareSpecs": false,
    "memoryGiB": 384,
    "name": "ml.g5.24xlarge",
    "vcpuNum": 96
   },
   {
    "_defaultOrder": 54,
    "_isFastLaunch": false,
    "category": "Accelerated computing",
    "gpuNum": 8,
    "hideHardwareSpecs": false,
    "memoryGiB": 768,
    "name": "ml.g5.48xlarge",
    "vcpuNum": 192
   },
   {
    "_defaultOrder": 55,
    "_isFastLaunch": false,
    "category": "Accelerated computing",
    "gpuNum": 8,
    "hideHardwareSpecs": false,
    "memoryGiB": 1152,
    "name": "ml.p4d.24xlarge",
    "vcpuNum": 96
   },
   {
    "_defaultOrder": 56,
    "_isFastLaunch": false,
    "category": "Accelerated computing",
    "gpuNum": 8,
    "hideHardwareSpecs": false,
    "memoryGiB": 1152,
    "name": "ml.p4de.24xlarge",
    "vcpuNum": 96
   },
   {
    "_defaultOrder": 57,
    "_isFastLaunch": false,
    "category": "Accelerated computing",
    "gpuNum": 0,
    "hideHardwareSpecs": false,
    "memoryGiB": 32,
    "name": "ml.trn1.2xlarge",
    "vcpuNum": 8
   },
   {
    "_defaultOrder": 58,
    "_isFastLaunch": false,
    "category": "Accelerated computing",
    "gpuNum": 0,
    "hideHardwareSpecs": false,
    "memoryGiB": 512,
    "name": "ml.trn1.32xlarge",
    "vcpuNum": 128
   },
   {
    "_defaultOrder": 59,
    "_isFastLaunch": false,
    "category": "Accelerated computing",
    "gpuNum": 0,
    "hideHardwareSpecs": false,
    "memoryGiB": 512,
    "name": "ml.trn1n.32xlarge",
    "vcpuNum": 128
   }
  ],
  "instance_type": "ml.m5.4xlarge",
  "kernelspec": {
   "display_name": "default (insitro-core/0)",
   "language": "python",
   "name": "python3__SAGEMAKER_INTERNAL__arn:aws:sagemaker:us-west-2:298579124006:image-version/insitro-core/0"
  },
  "language_info": {
   "codemirror_mode": {
    "name": "ipython",
    "version": 3
   },
   "file_extension": ".py",
   "mimetype": "text/x-python",
   "name": "python",
   "nbconvert_exporter": "python",
   "pygments_lexer": "ipython3",
   "version": "3.9.15"
  },
  "lcc_arn": "arn:aws:sagemaker:us-west-2:298579124006:studio-lifecycle-config/production-kernel"
 },
 "nbformat": 4,
 "nbformat_minor": 5
}
